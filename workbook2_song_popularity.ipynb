{
 "cells": [
  {
   "cell_type": "markdown",
   "id": "f57cb812",
   "metadata": {},
   "source": [
    "# Workbook 2 Song Popularity Project\n",
    "focused on creating function for modules and new methods on modeling"
   ]
  },
  {
   "cell_type": "code",
   "execution_count": null,
   "id": "59c10b53",
   "metadata": {
    "scrolled": true
   },
   "outputs": [],
   "source": [
    "# update modules during working process\n",
    "import importlib\n",
    "importlib.reload(w)"
   ]
  },
  {
   "cell_type": "markdown",
   "id": "ad78ab03",
   "metadata": {},
   "source": [
    "### imports"
   ]
  },
  {
   "cell_type": "code",
   "execution_count": 1,
   "id": "c4cca188",
   "metadata": {
    "scrolled": true
   },
   "outputs": [],
   "source": [
    "import pandas as pd\n",
    "import numpy as np\n",
    "import seaborn as sns\n",
    "import matplotlib.pyplot as plt\n",
    "#sns.set(rc={'axes.facecolor':'peachpuff', 'figure.facecolor':'ivory'})\n",
    "#sns.set_context('paper', font_scale = 2)\n",
    "import scipy.stats as stats\n",
    "\n",
    "import warnings\n",
    "warnings.filterwarnings(\"ignore\")"
   ]
  },
  {
   "cell_type": "code",
   "execution_count": 2,
   "id": "e2c78dd6",
   "metadata": {},
   "outputs": [],
   "source": [
    "from sklearn.linear_model import LinearRegression, LassoLars, TweedieRegressor\n",
    "\n",
    "from sklearn.feature_selection import RFE\n",
    "from sklearn.preprocessing import PolynomialFeatures\n",
    "from math import sqrt\n",
    "\n",
    "from sklearn.metrics import mean_squared_error\n",
    "\n",
    "from sklearn.preprocessing import PolynomialFeatures\n",
    "\n",
    "import wrangle as w"
   ]
  },
  {
   "cell_type": "markdown",
   "id": "d87ec84b",
   "metadata": {},
   "source": [
    "## Acquire\n",
    "Data was acquired from Kaggle https://www.kaggle.com/datasets/yasserh/song-popularity-dataset.\n",
    "Original source is unknow but it is believed to come from spotify."
   ]
  },
  {
   "cell_type": "code",
   "execution_count": 3,
   "id": "3c56afc7",
   "metadata": {},
   "outputs": [],
   "source": [
    "\n",
    "#import os\n",
    "def fresh_data():\n",
    "    '''\n",
    "    This reads the zillow 2017 properties data from the Codeup db into a df.\n",
    "    '''\n",
    "    # Read in DataFrame from csv file.\n",
    "    df = pd.read_csv(filename)\n",
    "    return df\n",
    "\n",
    "def acquire_data(new = False):\n",
    "    '''\n",
    "    Obtains the data from the csv file. \n",
    "    Next interation reads the data from the saved file\n",
    "    Returns: pandas DataFrame\n",
    "    '''\n",
    "    filename = 'song_data.csv'\n",
    "    # obtain cvs file\n",
    "    if (os.path.isfile(filename) == False) or (new == True):\n",
    "        df = fresh_data()\n",
    "        #save as csv locally\n",
    "        df.to_csv(filename,index=False)\n",
    "\n",
    "    #cached data\n",
    "    else:\n",
    "        df = pd.read_csv(filename)\n",
    "    \n",
    "    return df\n",
    "    "
   ]
  },
  {
   "cell_type": "code",
   "execution_count": 4,
   "id": "0c325cab",
   "metadata": {
    "scrolled": true
   },
   "outputs": [],
   "source": [
    "# test function in notebook shape is (18835,15)\n",
    "#df = acquire_data()"
   ]
  },
  {
   "cell_type": "code",
   "execution_count": 5,
   "id": "a61249ed",
   "metadata": {},
   "outputs": [],
   "source": [
    "# teat function as module---> result is the same shape (18835, 15)\n",
    "df = w.acquire_data()"
   ]
  },
  {
   "cell_type": "code",
   "execution_count": 6,
   "id": "5ddd5403",
   "metadata": {
    "scrolled": true
   },
   "outputs": [
    {
     "data": {
      "text/plain": [
       "(18835, 15)"
      ]
     },
     "execution_count": 6,
     "metadata": {},
     "output_type": "execute_result"
    }
   ],
   "source": [
    "df.shape"
   ]
  },
  {
   "cell_type": "code",
   "execution_count": 7,
   "id": "247f8e9e",
   "metadata": {
    "scrolled": true
   },
   "outputs": [
    {
     "data": {
      "text/html": [
       "<div>\n",
       "<style scoped>\n",
       "    .dataframe tbody tr th:only-of-type {\n",
       "        vertical-align: middle;\n",
       "    }\n",
       "\n",
       "    .dataframe tbody tr th {\n",
       "        vertical-align: top;\n",
       "    }\n",
       "\n",
       "    .dataframe thead th {\n",
       "        text-align: right;\n",
       "    }\n",
       "</style>\n",
       "<table border=\"1\" class=\"dataframe\">\n",
       "  <thead>\n",
       "    <tr style=\"text-align: right;\">\n",
       "      <th></th>\n",
       "      <th>song_name</th>\n",
       "      <th>song_popularity</th>\n",
       "      <th>song_duration_ms</th>\n",
       "      <th>acousticness</th>\n",
       "      <th>danceability</th>\n",
       "      <th>energy</th>\n",
       "      <th>instrumentalness</th>\n",
       "      <th>key</th>\n",
       "      <th>liveness</th>\n",
       "      <th>loudness</th>\n",
       "      <th>audio_mode</th>\n",
       "      <th>speechiness</th>\n",
       "      <th>tempo</th>\n",
       "      <th>time_signature</th>\n",
       "      <th>audio_valence</th>\n",
       "    </tr>\n",
       "  </thead>\n",
       "  <tbody>\n",
       "    <tr>\n",
       "      <th>0</th>\n",
       "      <td>Boulevard of Broken Dreams</td>\n",
       "      <td>73</td>\n",
       "      <td>262333</td>\n",
       "      <td>0.005520</td>\n",
       "      <td>0.496</td>\n",
       "      <td>0.682</td>\n",
       "      <td>0.000029</td>\n",
       "      <td>8</td>\n",
       "      <td>0.0589</td>\n",
       "      <td>-4.095</td>\n",
       "      <td>1</td>\n",
       "      <td>0.0294</td>\n",
       "      <td>167.060</td>\n",
       "      <td>4</td>\n",
       "      <td>0.474</td>\n",
       "    </tr>\n",
       "    <tr>\n",
       "      <th>1</th>\n",
       "      <td>In The End</td>\n",
       "      <td>66</td>\n",
       "      <td>216933</td>\n",
       "      <td>0.010300</td>\n",
       "      <td>0.542</td>\n",
       "      <td>0.853</td>\n",
       "      <td>0.000000</td>\n",
       "      <td>3</td>\n",
       "      <td>0.1080</td>\n",
       "      <td>-6.407</td>\n",
       "      <td>0</td>\n",
       "      <td>0.0498</td>\n",
       "      <td>105.256</td>\n",
       "      <td>4</td>\n",
       "      <td>0.370</td>\n",
       "    </tr>\n",
       "    <tr>\n",
       "      <th>2</th>\n",
       "      <td>Seven Nation Army</td>\n",
       "      <td>76</td>\n",
       "      <td>231733</td>\n",
       "      <td>0.008170</td>\n",
       "      <td>0.737</td>\n",
       "      <td>0.463</td>\n",
       "      <td>0.447000</td>\n",
       "      <td>0</td>\n",
       "      <td>0.2550</td>\n",
       "      <td>-7.828</td>\n",
       "      <td>1</td>\n",
       "      <td>0.0792</td>\n",
       "      <td>123.881</td>\n",
       "      <td>4</td>\n",
       "      <td>0.324</td>\n",
       "    </tr>\n",
       "    <tr>\n",
       "      <th>3</th>\n",
       "      <td>By The Way</td>\n",
       "      <td>74</td>\n",
       "      <td>216933</td>\n",
       "      <td>0.026400</td>\n",
       "      <td>0.451</td>\n",
       "      <td>0.970</td>\n",
       "      <td>0.003550</td>\n",
       "      <td>0</td>\n",
       "      <td>0.1020</td>\n",
       "      <td>-4.938</td>\n",
       "      <td>1</td>\n",
       "      <td>0.1070</td>\n",
       "      <td>122.444</td>\n",
       "      <td>4</td>\n",
       "      <td>0.198</td>\n",
       "    </tr>\n",
       "    <tr>\n",
       "      <th>4</th>\n",
       "      <td>How You Remind Me</td>\n",
       "      <td>56</td>\n",
       "      <td>223826</td>\n",
       "      <td>0.000954</td>\n",
       "      <td>0.447</td>\n",
       "      <td>0.766</td>\n",
       "      <td>0.000000</td>\n",
       "      <td>10</td>\n",
       "      <td>0.1130</td>\n",
       "      <td>-5.065</td>\n",
       "      <td>1</td>\n",
       "      <td>0.0313</td>\n",
       "      <td>172.011</td>\n",
       "      <td>4</td>\n",
       "      <td>0.574</td>\n",
       "    </tr>\n",
       "    <tr>\n",
       "      <th>5</th>\n",
       "      <td>Bring Me To Life</td>\n",
       "      <td>80</td>\n",
       "      <td>235893</td>\n",
       "      <td>0.008950</td>\n",
       "      <td>0.316</td>\n",
       "      <td>0.945</td>\n",
       "      <td>0.000002</td>\n",
       "      <td>4</td>\n",
       "      <td>0.3960</td>\n",
       "      <td>-3.169</td>\n",
       "      <td>0</td>\n",
       "      <td>0.1240</td>\n",
       "      <td>189.931</td>\n",
       "      <td>4</td>\n",
       "      <td>0.320</td>\n",
       "    </tr>\n",
       "    <tr>\n",
       "      <th>6</th>\n",
       "      <td>Last Resort</td>\n",
       "      <td>81</td>\n",
       "      <td>199893</td>\n",
       "      <td>0.000504</td>\n",
       "      <td>0.581</td>\n",
       "      <td>0.887</td>\n",
       "      <td>0.001110</td>\n",
       "      <td>4</td>\n",
       "      <td>0.2680</td>\n",
       "      <td>-3.659</td>\n",
       "      <td>0</td>\n",
       "      <td>0.0624</td>\n",
       "      <td>90.578</td>\n",
       "      <td>4</td>\n",
       "      <td>0.724</td>\n",
       "    </tr>\n",
       "    <tr>\n",
       "      <th>7</th>\n",
       "      <td>Are You Gonna Be My Girl</td>\n",
       "      <td>76</td>\n",
       "      <td>213800</td>\n",
       "      <td>0.001480</td>\n",
       "      <td>0.613</td>\n",
       "      <td>0.953</td>\n",
       "      <td>0.000582</td>\n",
       "      <td>2</td>\n",
       "      <td>0.1520</td>\n",
       "      <td>-3.435</td>\n",
       "      <td>1</td>\n",
       "      <td>0.0855</td>\n",
       "      <td>105.046</td>\n",
       "      <td>4</td>\n",
       "      <td>0.537</td>\n",
       "    </tr>\n",
       "    <tr>\n",
       "      <th>8</th>\n",
       "      <td>Mr. Brightside</td>\n",
       "      <td>80</td>\n",
       "      <td>222586</td>\n",
       "      <td>0.001080</td>\n",
       "      <td>0.330</td>\n",
       "      <td>0.936</td>\n",
       "      <td>0.000000</td>\n",
       "      <td>1</td>\n",
       "      <td>0.0926</td>\n",
       "      <td>-3.660</td>\n",
       "      <td>1</td>\n",
       "      <td>0.0917</td>\n",
       "      <td>148.112</td>\n",
       "      <td>4</td>\n",
       "      <td>0.234</td>\n",
       "    </tr>\n",
       "    <tr>\n",
       "      <th>9</th>\n",
       "      <td>Sex on Fire</td>\n",
       "      <td>81</td>\n",
       "      <td>203346</td>\n",
       "      <td>0.001720</td>\n",
       "      <td>0.542</td>\n",
       "      <td>0.905</td>\n",
       "      <td>0.010400</td>\n",
       "      <td>9</td>\n",
       "      <td>0.1360</td>\n",
       "      <td>-5.653</td>\n",
       "      <td>1</td>\n",
       "      <td>0.0540</td>\n",
       "      <td>153.398</td>\n",
       "      <td>4</td>\n",
       "      <td>0.374</td>\n",
       "    </tr>\n",
       "  </tbody>\n",
       "</table>\n",
       "</div>"
      ],
      "text/plain": [
       "                    song_name  song_popularity  song_duration_ms  \\\n",
       "0  Boulevard of Broken Dreams               73            262333   \n",
       "1                  In The End               66            216933   \n",
       "2           Seven Nation Army               76            231733   \n",
       "3                  By The Way               74            216933   \n",
       "4           How You Remind Me               56            223826   \n",
       "5            Bring Me To Life               80            235893   \n",
       "6                 Last Resort               81            199893   \n",
       "7    Are You Gonna Be My Girl               76            213800   \n",
       "8              Mr. Brightside               80            222586   \n",
       "9                 Sex on Fire               81            203346   \n",
       "\n",
       "   acousticness  danceability  energy  instrumentalness  key  liveness  \\\n",
       "0      0.005520         0.496   0.682          0.000029    8    0.0589   \n",
       "1      0.010300         0.542   0.853          0.000000    3    0.1080   \n",
       "2      0.008170         0.737   0.463          0.447000    0    0.2550   \n",
       "3      0.026400         0.451   0.970          0.003550    0    0.1020   \n",
       "4      0.000954         0.447   0.766          0.000000   10    0.1130   \n",
       "5      0.008950         0.316   0.945          0.000002    4    0.3960   \n",
       "6      0.000504         0.581   0.887          0.001110    4    0.2680   \n",
       "7      0.001480         0.613   0.953          0.000582    2    0.1520   \n",
       "8      0.001080         0.330   0.936          0.000000    1    0.0926   \n",
       "9      0.001720         0.542   0.905          0.010400    9    0.1360   \n",
       "\n",
       "   loudness  audio_mode  speechiness    tempo  time_signature  audio_valence  \n",
       "0    -4.095           1       0.0294  167.060               4          0.474  \n",
       "1    -6.407           0       0.0498  105.256               4          0.370  \n",
       "2    -7.828           1       0.0792  123.881               4          0.324  \n",
       "3    -4.938           1       0.1070  122.444               4          0.198  \n",
       "4    -5.065           1       0.0313  172.011               4          0.574  \n",
       "5    -3.169           0       0.1240  189.931               4          0.320  \n",
       "6    -3.659           0       0.0624   90.578               4          0.724  \n",
       "7    -3.435           1       0.0855  105.046               4          0.537  \n",
       "8    -3.660           1       0.0917  148.112               4          0.234  \n",
       "9    -5.653           1       0.0540  153.398               4          0.374  "
      ]
     },
     "execution_count": 7,
     "metadata": {},
     "output_type": "execute_result"
    }
   ],
   "source": [
    "df.head(10)"
   ]
  },
  {
   "cell_type": "markdown",
   "id": "7f9f06a4",
   "metadata": {},
   "source": [
    "# Data Dictionary"
   ]
  },
  {
   "cell_type": "markdown",
   "id": "dd01ad5d",
   "metadata": {},
   "source": [
    "Feature |Type |Description\n",
    " :--- | :--- | :--- |\n",
    "song_name |object | The name of the song|\n",
    " **song_popularity** | int64|TARGET: Song Popularity 0-100, The larger the number the more popular the song|\n",
    " song_duration_ms| int 64| how long the song is in miliseconds|\n",
    " acousticness|float 64|A confidence measure from 0.0 to 1.0 of whether the track is acoustic. 1.0 represents high confidence the track is acoustic|\n",
    " danceability|float 64| how suitable a track is for dancing based on a combination of musical elements including tempo, rhythm stability, beat strength, and overall regularity. A value of 0.0 is least danceable and 1.0 is most danceable |\n",
    " energy|float 64|Energy is a measure from 0.0 to 1.0 and represents a perceptual measure of intensity and activity|\n",
    " instrumentalness|float 64 | Predicts whether a track contains no vocals the closer the instrumentalness value is to 1.0, the greater likelihood the track contains no vocal content. Values above 0.5 are intended to represent instrumental tracks, but confidence is higher as the value approaches 1.0.\n",
    " key|int 64|The estimated overall key of the track. Integers map to pitches using standard Pitch Class notation . E.g. 0 = C, 1 = C?/D?, 2 = D, and so on. If no key was detected, the value is -1.|\n",
    " liveness|float 64|Detects the presence of an audience in the recording. Higher liveness values represent an increased probability that the track was performed live. A value above 0.8 provides strong likelihood that the track is live.\n",
    " loudness|float 64|The overall loudness of a track in decibels (dB). Loudness values are averaged across the entire track and are useful for comparing relative loudness of tracks. Loudness is the quality of a sound that is the primary psychological correlate of physical strength (amplitude). Values typical range between -60 and 0 db|\n",
    " audio_mode|int 64|Mode indicates the modality (major or minor) of a track, the type of scale from which its melodic content is derived. Major is represented by 1 and minor is 0.|\n",
    " speechiness|float 64|Speechiness detects the presence of spoken words in a track. The more exclusively speech-like the recording (e.g. talk show, audio book, poetry), the closer to 1.0 the attribute value. Values above 0.66 describe tracks that are probably made entirely of spoken words. Values between 0.33 and 0.66 describe tracks that may contain both music and speech, either in sections or layered, including such cases as rap music. Values below 0.33 most likely represent music and other non-speech-like tracks.|\n",
    " tempo|float 64|The overall estimated tempo of a track in beats per minute (BPM). In musical terminology, tempo is the speed or pace of a given piece and derives directly from the average beat duration|\n",
    " time_signature| int 64|\n",
    " audio_valence|float 64|A measure from 0.0 to 1.0 describing the musical positiveness conveyed by a track. Tracks with high valence sound more positive (e.g. happy, cheerful, euphoric), while tracks with low valence sound more negative (e.g. sad, depressed, angry).|indicate how many beats are in each measure of a piece of music, as well as which note value is counted as a beat. |\n"
   ]
  },
  {
   "cell_type": "markdown",
   "id": "44d56910",
   "metadata": {},
   "source": [
    "## Clean and Prep"
   ]
  },
  {
   "cell_type": "markdown",
   "id": "093da49d",
   "metadata": {},
   "source": [
    "* The only prep work needed so far is to drop duplicates\n",
    "* Null values were not found \n",
    "* Outliers were not taken out for this iteration "
   ]
  },
  {
   "cell_type": "markdown",
   "id": "a41ba87d",
   "metadata": {},
   "source": [
    "### Drop Duplicated columns"
   ]
  },
  {
   "cell_type": "code",
   "execution_count": 8,
   "id": "e91bc085",
   "metadata": {},
   "outputs": [],
   "source": [
    "def data_prep(df):\n",
    "    '''\n",
    "    data_prep takes in dataframe and drops duplicates\n",
    "    Returns cleaned dataframe\n",
    "    '''\n",
    "    df.drop_duplicates(inplace=True)\n",
    "    \n",
    "    return df\n",
    "    "
   ]
  },
  {
   "cell_type": "code",
   "execution_count": 9,
   "id": "06da1da1",
   "metadata": {},
   "outputs": [],
   "source": [
    "# test function in notebook shape is (14926,15)\n",
    "#df = data_prep(df)"
   ]
  },
  {
   "cell_type": "code",
   "execution_count": 10,
   "id": "e657ced7",
   "metadata": {},
   "outputs": [],
   "source": [
    "# test function as module---> Results df is the same shape \n",
    "df = w.data_prep(df)"
   ]
  },
  {
   "cell_type": "code",
   "execution_count": 11,
   "id": "3e7e682d",
   "metadata": {},
   "outputs": [
    {
     "data": {
      "text/plain": [
       "(14926, 15)"
      ]
     },
     "execution_count": 11,
     "metadata": {},
     "output_type": "execute_result"
    }
   ],
   "source": [
    "df.shape"
   ]
  },
  {
   "cell_type": "code",
   "execution_count": 12,
   "id": "3f4a1b71",
   "metadata": {},
   "outputs": [
    {
     "data": {
      "text/plain": [
       "song_name            object\n",
       "song_popularity       int64\n",
       "song_duration_ms      int64\n",
       "acousticness        float64\n",
       "danceability        float64\n",
       "energy              float64\n",
       "instrumentalness    float64\n",
       "key                   int64\n",
       "liveness            float64\n",
       "loudness            float64\n",
       "audio_mode            int64\n",
       "speechiness         float64\n",
       "tempo               float64\n",
       "time_signature        int64\n",
       "audio_valence       float64\n",
       "dtype: object"
      ]
     },
     "execution_count": 12,
     "metadata": {},
     "output_type": "execute_result"
    }
   ],
   "source": [
    "df.dtypes"
   ]
  },
  {
   "cell_type": "code",
   "execution_count": 13,
   "id": "31e1e14a",
   "metadata": {
    "scrolled": true
   },
   "outputs": [
    {
     "data": {
      "text/html": [
       "<div>\n",
       "<style scoped>\n",
       "    .dataframe tbody tr th:only-of-type {\n",
       "        vertical-align: middle;\n",
       "    }\n",
       "\n",
       "    .dataframe tbody tr th {\n",
       "        vertical-align: top;\n",
       "    }\n",
       "\n",
       "    .dataframe thead th {\n",
       "        text-align: right;\n",
       "    }\n",
       "</style>\n",
       "<table border=\"1\" class=\"dataframe\">\n",
       "  <thead>\n",
       "    <tr style=\"text-align: right;\">\n",
       "      <th></th>\n",
       "      <th>song_popularity</th>\n",
       "      <th>song_duration_ms</th>\n",
       "      <th>acousticness</th>\n",
       "      <th>danceability</th>\n",
       "      <th>energy</th>\n",
       "      <th>instrumentalness</th>\n",
       "      <th>key</th>\n",
       "      <th>liveness</th>\n",
       "      <th>loudness</th>\n",
       "      <th>audio_mode</th>\n",
       "      <th>speechiness</th>\n",
       "      <th>tempo</th>\n",
       "      <th>time_signature</th>\n",
       "      <th>audio_valence</th>\n",
       "    </tr>\n",
       "  </thead>\n",
       "  <tbody>\n",
       "    <tr>\n",
       "      <th>count</th>\n",
       "      <td>14926.000000</td>\n",
       "      <td>1.492600e+04</td>\n",
       "      <td>14926.000000</td>\n",
       "      <td>14926.000000</td>\n",
       "      <td>14926.000000</td>\n",
       "      <td>14926.000000</td>\n",
       "      <td>14926.000000</td>\n",
       "      <td>14926.000000</td>\n",
       "      <td>14926.000000</td>\n",
       "      <td>14926.000000</td>\n",
       "      <td>14926.000000</td>\n",
       "      <td>14926.000000</td>\n",
       "      <td>14926.000000</td>\n",
       "      <td>14926.000000</td>\n",
       "    </tr>\n",
       "    <tr>\n",
       "      <th>mean</th>\n",
       "      <td>48.750904</td>\n",
       "      <td>2.189496e+05</td>\n",
       "      <td>0.270453</td>\n",
       "      <td>0.624514</td>\n",
       "      <td>0.639763</td>\n",
       "      <td>0.092067</td>\n",
       "      <td>5.301152</td>\n",
       "      <td>0.180435</td>\n",
       "      <td>-7.677232</td>\n",
       "      <td>0.631917</td>\n",
       "      <td>0.099419</td>\n",
       "      <td>121.105007</td>\n",
       "      <td>3.952968</td>\n",
       "      <td>0.526967</td>\n",
       "    </tr>\n",
       "    <tr>\n",
       "      <th>std</th>\n",
       "      <td>20.379465</td>\n",
       "      <td>6.234080e+04</td>\n",
       "      <td>0.298117</td>\n",
       "      <td>0.158081</td>\n",
       "      <td>0.221756</td>\n",
       "      <td>0.240451</td>\n",
       "      <td>3.592616</td>\n",
       "      <td>0.145097</td>\n",
       "      <td>4.018670</td>\n",
       "      <td>0.482300</td>\n",
       "      <td>0.103546</td>\n",
       "      <td>29.044644</td>\n",
       "      <td>0.316702</td>\n",
       "      <td>0.247758</td>\n",
       "    </tr>\n",
       "    <tr>\n",
       "      <th>min</th>\n",
       "      <td>0.000000</td>\n",
       "      <td>1.200000e+04</td>\n",
       "      <td>0.000001</td>\n",
       "      <td>0.000000</td>\n",
       "      <td>0.001070</td>\n",
       "      <td>0.000000</td>\n",
       "      <td>0.000000</td>\n",
       "      <td>0.010900</td>\n",
       "      <td>-38.768000</td>\n",
       "      <td>0.000000</td>\n",
       "      <td>0.000000</td>\n",
       "      <td>0.000000</td>\n",
       "      <td>0.000000</td>\n",
       "      <td>0.000000</td>\n",
       "    </tr>\n",
       "    <tr>\n",
       "      <th>25%</th>\n",
       "      <td>37.000000</td>\n",
       "      <td>1.839435e+05</td>\n",
       "      <td>0.023600</td>\n",
       "      <td>0.524000</td>\n",
       "      <td>0.496000</td>\n",
       "      <td>0.000000</td>\n",
       "      <td>2.000000</td>\n",
       "      <td>0.093000</td>\n",
       "      <td>-9.389500</td>\n",
       "      <td>0.000000</td>\n",
       "      <td>0.037200</td>\n",
       "      <td>98.125000</td>\n",
       "      <td>4.000000</td>\n",
       "      <td>0.332000</td>\n",
       "    </tr>\n",
       "    <tr>\n",
       "      <th>50%</th>\n",
       "      <td>52.000000</td>\n",
       "      <td>2.118455e+05</td>\n",
       "      <td>0.139000</td>\n",
       "      <td>0.636000</td>\n",
       "      <td>0.672000</td>\n",
       "      <td>0.000021</td>\n",
       "      <td>5.000000</td>\n",
       "      <td>0.122000</td>\n",
       "      <td>-6.750500</td>\n",
       "      <td>1.000000</td>\n",
       "      <td>0.054100</td>\n",
       "      <td>120.016000</td>\n",
       "      <td>4.000000</td>\n",
       "      <td>0.527000</td>\n",
       "    </tr>\n",
       "    <tr>\n",
       "      <th>75%</th>\n",
       "      <td>63.750000</td>\n",
       "      <td>2.447200e+05</td>\n",
       "      <td>0.458000</td>\n",
       "      <td>0.740000</td>\n",
       "      <td>0.818000</td>\n",
       "      <td>0.005105</td>\n",
       "      <td>8.000000</td>\n",
       "      <td>0.224000</td>\n",
       "      <td>-4.991000</td>\n",
       "      <td>1.000000</td>\n",
       "      <td>0.113000</td>\n",
       "      <td>139.940750</td>\n",
       "      <td>4.000000</td>\n",
       "      <td>0.727750</td>\n",
       "    </tr>\n",
       "    <tr>\n",
       "      <th>max</th>\n",
       "      <td>100.000000</td>\n",
       "      <td>1.799346e+06</td>\n",
       "      <td>0.996000</td>\n",
       "      <td>0.987000</td>\n",
       "      <td>0.999000</td>\n",
       "      <td>0.997000</td>\n",
       "      <td>11.000000</td>\n",
       "      <td>0.986000</td>\n",
       "      <td>1.585000</td>\n",
       "      <td>1.000000</td>\n",
       "      <td>0.941000</td>\n",
       "      <td>242.318000</td>\n",
       "      <td>5.000000</td>\n",
       "      <td>0.984000</td>\n",
       "    </tr>\n",
       "  </tbody>\n",
       "</table>\n",
       "</div>"
      ],
      "text/plain": [
       "       song_popularity  song_duration_ms  acousticness  danceability  \\\n",
       "count     14926.000000      1.492600e+04  14926.000000  14926.000000   \n",
       "mean         48.750904      2.189496e+05      0.270453      0.624514   \n",
       "std          20.379465      6.234080e+04      0.298117      0.158081   \n",
       "min           0.000000      1.200000e+04      0.000001      0.000000   \n",
       "25%          37.000000      1.839435e+05      0.023600      0.524000   \n",
       "50%          52.000000      2.118455e+05      0.139000      0.636000   \n",
       "75%          63.750000      2.447200e+05      0.458000      0.740000   \n",
       "max         100.000000      1.799346e+06      0.996000      0.987000   \n",
       "\n",
       "             energy  instrumentalness           key      liveness  \\\n",
       "count  14926.000000      14926.000000  14926.000000  14926.000000   \n",
       "mean       0.639763          0.092067      5.301152      0.180435   \n",
       "std        0.221756          0.240451      3.592616      0.145097   \n",
       "min        0.001070          0.000000      0.000000      0.010900   \n",
       "25%        0.496000          0.000000      2.000000      0.093000   \n",
       "50%        0.672000          0.000021      5.000000      0.122000   \n",
       "75%        0.818000          0.005105      8.000000      0.224000   \n",
       "max        0.999000          0.997000     11.000000      0.986000   \n",
       "\n",
       "           loudness    audio_mode   speechiness         tempo  time_signature  \\\n",
       "count  14926.000000  14926.000000  14926.000000  14926.000000    14926.000000   \n",
       "mean      -7.677232      0.631917      0.099419    121.105007        3.952968   \n",
       "std        4.018670      0.482300      0.103546     29.044644        0.316702   \n",
       "min      -38.768000      0.000000      0.000000      0.000000        0.000000   \n",
       "25%       -9.389500      0.000000      0.037200     98.125000        4.000000   \n",
       "50%       -6.750500      1.000000      0.054100    120.016000        4.000000   \n",
       "75%       -4.991000      1.000000      0.113000    139.940750        4.000000   \n",
       "max        1.585000      1.000000      0.941000    242.318000        5.000000   \n",
       "\n",
       "       audio_valence  \n",
       "count   14926.000000  \n",
       "mean        0.526967  \n",
       "std         0.247758  \n",
       "min         0.000000  \n",
       "25%         0.332000  \n",
       "50%         0.527000  \n",
       "75%         0.727750  \n",
       "max         0.984000  "
      ]
     },
     "execution_count": 13,
     "metadata": {},
     "output_type": "execute_result"
    }
   ],
   "source": [
    "df.describe()"
   ]
  },
  {
   "cell_type": "markdown",
   "id": "15e9c2f1",
   "metadata": {},
   "source": [
    "# Split Data for Explore"
   ]
  },
  {
   "cell_type": "code",
   "execution_count": 14,
   "id": "d6292064",
   "metadata": {},
   "outputs": [],
   "source": [
    "def split_data(df):\n",
    "    '''\n",
    "    split_data takes in data Frame and splits into  train , validate, test.\n",
    "    The split is 20% test 80% train/validate. Then 30% of 80% validate and 70% of 80% train.\n",
    "    Aproximately (train 56%, validate 24%, test 20%)\n",
    "    Returns train, validate, and test \n",
    "    '''\n",
    "    # split test data from train/validate\n",
    "    train_and_validate, test = train_test_split(df, random_state=123, test_size=.2)\n",
    "\n",
    "    # split train from validate\n",
    "    train, validate = train_test_split(train_and_validate, random_state=123, test_size=.3)\n",
    "                                   \n",
    "    return train, validate, test"
   ]
  },
  {
   "cell_type": "code",
   "execution_count": 15,
   "id": "b58c37ec",
   "metadata": {
    "scrolled": true
   },
   "outputs": [],
   "source": [
    "# test function in notebook shape is (8358, 15)\n",
    "#train, _, _ = split_data(df)"
   ]
  },
  {
   "cell_type": "code",
   "execution_count": 16,
   "id": "fc913e85",
   "metadata": {},
   "outputs": [],
   "source": [
    "# test function in module --> result shape is (8358, 15) the same\n",
    "train, _, _ = w.split_data(df)"
   ]
  },
  {
   "cell_type": "code",
   "execution_count": 17,
   "id": "a5fe6e09",
   "metadata": {},
   "outputs": [
    {
     "data": {
      "text/plain": [
       "(8358, 15)"
      ]
     },
     "execution_count": 17,
     "metadata": {},
     "output_type": "execute_result"
    }
   ],
   "source": [
    "train.shape"
   ]
  },
  {
   "cell_type": "code",
   "execution_count": 18,
   "id": "fc6fbcd4",
   "metadata": {},
   "outputs": [
    {
     "name": "stdout",
     "output_type": "stream",
     "text": [
      "<class 'pandas.core.frame.DataFrame'>\n",
      "Int64Index: 8358 entries, 1335 to 1197\n",
      "Data columns (total 15 columns):\n",
      " #   Column            Non-Null Count  Dtype  \n",
      "---  ------            --------------  -----  \n",
      " 0   song_name         8358 non-null   object \n",
      " 1   song_popularity   8358 non-null   int64  \n",
      " 2   song_duration_ms  8358 non-null   int64  \n",
      " 3   acousticness      8358 non-null   float64\n",
      " 4   danceability      8358 non-null   float64\n",
      " 5   energy            8358 non-null   float64\n",
      " 6   instrumentalness  8358 non-null   float64\n",
      " 7   key               8358 non-null   int64  \n",
      " 8   liveness          8358 non-null   float64\n",
      " 9   loudness          8358 non-null   float64\n",
      " 10  audio_mode        8358 non-null   int64  \n",
      " 11  speechiness       8358 non-null   float64\n",
      " 12  tempo             8358 non-null   float64\n",
      " 13  time_signature    8358 non-null   int64  \n",
      " 14  audio_valence     8358 non-null   float64\n",
      "dtypes: float64(9), int64(5), object(1)\n",
      "memory usage: 1.0+ MB\n"
     ]
    }
   ],
   "source": [
    "train.info()"
   ]
  },
  {
   "cell_type": "code",
   "execution_count": 19,
   "id": "2ad5bd68",
   "metadata": {
    "scrolled": true
   },
   "outputs": [
    {
     "data": {
      "text/html": [
       "<div>\n",
       "<style scoped>\n",
       "    .dataframe tbody tr th:only-of-type {\n",
       "        vertical-align: middle;\n",
       "    }\n",
       "\n",
       "    .dataframe tbody tr th {\n",
       "        vertical-align: top;\n",
       "    }\n",
       "\n",
       "    .dataframe thead th {\n",
       "        text-align: right;\n",
       "    }\n",
       "</style>\n",
       "<table border=\"1\" class=\"dataframe\">\n",
       "  <thead>\n",
       "    <tr style=\"text-align: right;\">\n",
       "      <th></th>\n",
       "      <th>song_popularity</th>\n",
       "      <th>song_duration_ms</th>\n",
       "      <th>acousticness</th>\n",
       "      <th>danceability</th>\n",
       "      <th>energy</th>\n",
       "      <th>instrumentalness</th>\n",
       "      <th>key</th>\n",
       "      <th>liveness</th>\n",
       "      <th>loudness</th>\n",
       "      <th>audio_mode</th>\n",
       "      <th>speechiness</th>\n",
       "      <th>tempo</th>\n",
       "      <th>time_signature</th>\n",
       "      <th>audio_valence</th>\n",
       "    </tr>\n",
       "  </thead>\n",
       "  <tbody>\n",
       "    <tr>\n",
       "      <th>count</th>\n",
       "      <td>8358.000000</td>\n",
       "      <td>8.358000e+03</td>\n",
       "      <td>8358.000000</td>\n",
       "      <td>8358.000000</td>\n",
       "      <td>8358.000000</td>\n",
       "      <td>8358.000000</td>\n",
       "      <td>8358.000000</td>\n",
       "      <td>8358.000000</td>\n",
       "      <td>8358.000000</td>\n",
       "      <td>8358.000000</td>\n",
       "      <td>8358.000000</td>\n",
       "      <td>8358.000000</td>\n",
       "      <td>8358.000000</td>\n",
       "      <td>8358.000000</td>\n",
       "    </tr>\n",
       "    <tr>\n",
       "      <th>mean</th>\n",
       "      <td>48.646925</td>\n",
       "      <td>2.196057e+05</td>\n",
       "      <td>0.272077</td>\n",
       "      <td>0.623732</td>\n",
       "      <td>0.640336</td>\n",
       "      <td>0.092038</td>\n",
       "      <td>5.260708</td>\n",
       "      <td>0.181391</td>\n",
       "      <td>-7.694547</td>\n",
       "      <td>0.634841</td>\n",
       "      <td>0.100226</td>\n",
       "      <td>121.451581</td>\n",
       "      <td>3.955492</td>\n",
       "      <td>0.527123</td>\n",
       "    </tr>\n",
       "    <tr>\n",
       "      <th>std</th>\n",
       "      <td>20.357235</td>\n",
       "      <td>6.453181e+04</td>\n",
       "      <td>0.300658</td>\n",
       "      <td>0.157972</td>\n",
       "      <td>0.222402</td>\n",
       "      <td>0.240468</td>\n",
       "      <td>3.589351</td>\n",
       "      <td>0.145189</td>\n",
       "      <td>4.024593</td>\n",
       "      <td>0.481504</td>\n",
       "      <td>0.104200</td>\n",
       "      <td>29.016411</td>\n",
       "      <td>0.311988</td>\n",
       "      <td>0.246605</td>\n",
       "    </tr>\n",
       "    <tr>\n",
       "      <th>min</th>\n",
       "      <td>0.000000</td>\n",
       "      <td>2.618600e+04</td>\n",
       "      <td>0.000001</td>\n",
       "      <td>0.059400</td>\n",
       "      <td>0.001630</td>\n",
       "      <td>0.000000</td>\n",
       "      <td>0.000000</td>\n",
       "      <td>0.011900</td>\n",
       "      <td>-36.729000</td>\n",
       "      <td>0.000000</td>\n",
       "      <td>0.022800</td>\n",
       "      <td>46.591000</td>\n",
       "      <td>1.000000</td>\n",
       "      <td>0.023000</td>\n",
       "    </tr>\n",
       "    <tr>\n",
       "      <th>25%</th>\n",
       "      <td>37.000000</td>\n",
       "      <td>1.846038e+05</td>\n",
       "      <td>0.023225</td>\n",
       "      <td>0.524000</td>\n",
       "      <td>0.495000</td>\n",
       "      <td>0.000000</td>\n",
       "      <td>2.000000</td>\n",
       "      <td>0.093100</td>\n",
       "      <td>-9.423250</td>\n",
       "      <td>0.000000</td>\n",
       "      <td>0.037200</td>\n",
       "      <td>98.275750</td>\n",
       "      <td>4.000000</td>\n",
       "      <td>0.333000</td>\n",
       "    </tr>\n",
       "    <tr>\n",
       "      <th>50%</th>\n",
       "      <td>52.000000</td>\n",
       "      <td>2.123195e+05</td>\n",
       "      <td>0.139000</td>\n",
       "      <td>0.634000</td>\n",
       "      <td>0.674000</td>\n",
       "      <td>0.000023</td>\n",
       "      <td>5.000000</td>\n",
       "      <td>0.122000</td>\n",
       "      <td>-6.761500</td>\n",
       "      <td>1.000000</td>\n",
       "      <td>0.054200</td>\n",
       "      <td>120.050500</td>\n",
       "      <td>4.000000</td>\n",
       "      <td>0.526000</td>\n",
       "    </tr>\n",
       "    <tr>\n",
       "      <th>75%</th>\n",
       "      <td>63.000000</td>\n",
       "      <td>2.453860e+05</td>\n",
       "      <td>0.459000</td>\n",
       "      <td>0.739000</td>\n",
       "      <td>0.818000</td>\n",
       "      <td>0.005380</td>\n",
       "      <td>8.000000</td>\n",
       "      <td>0.229000</td>\n",
       "      <td>-5.024000</td>\n",
       "      <td>1.000000</td>\n",
       "      <td>0.115000</td>\n",
       "      <td>139.992500</td>\n",
       "      <td>4.000000</td>\n",
       "      <td>0.728000</td>\n",
       "    </tr>\n",
       "    <tr>\n",
       "      <th>max</th>\n",
       "      <td>100.000000</td>\n",
       "      <td>1.799346e+06</td>\n",
       "      <td>0.996000</td>\n",
       "      <td>0.987000</td>\n",
       "      <td>0.997000</td>\n",
       "      <td>0.997000</td>\n",
       "      <td>11.000000</td>\n",
       "      <td>0.983000</td>\n",
       "      <td>1.585000</td>\n",
       "      <td>1.000000</td>\n",
       "      <td>0.941000</td>\n",
       "      <td>242.318000</td>\n",
       "      <td>5.000000</td>\n",
       "      <td>0.982000</td>\n",
       "    </tr>\n",
       "  </tbody>\n",
       "</table>\n",
       "</div>"
      ],
      "text/plain": [
       "       song_popularity  song_duration_ms  acousticness  danceability  \\\n",
       "count      8358.000000      8.358000e+03   8358.000000   8358.000000   \n",
       "mean         48.646925      2.196057e+05      0.272077      0.623732   \n",
       "std          20.357235      6.453181e+04      0.300658      0.157972   \n",
       "min           0.000000      2.618600e+04      0.000001      0.059400   \n",
       "25%          37.000000      1.846038e+05      0.023225      0.524000   \n",
       "50%          52.000000      2.123195e+05      0.139000      0.634000   \n",
       "75%          63.000000      2.453860e+05      0.459000      0.739000   \n",
       "max         100.000000      1.799346e+06      0.996000      0.987000   \n",
       "\n",
       "            energy  instrumentalness          key     liveness     loudness  \\\n",
       "count  8358.000000       8358.000000  8358.000000  8358.000000  8358.000000   \n",
       "mean      0.640336          0.092038     5.260708     0.181391    -7.694547   \n",
       "std       0.222402          0.240468     3.589351     0.145189     4.024593   \n",
       "min       0.001630          0.000000     0.000000     0.011900   -36.729000   \n",
       "25%       0.495000          0.000000     2.000000     0.093100    -9.423250   \n",
       "50%       0.674000          0.000023     5.000000     0.122000    -6.761500   \n",
       "75%       0.818000          0.005380     8.000000     0.229000    -5.024000   \n",
       "max       0.997000          0.997000    11.000000     0.983000     1.585000   \n",
       "\n",
       "        audio_mode  speechiness        tempo  time_signature  audio_valence  \n",
       "count  8358.000000  8358.000000  8358.000000     8358.000000    8358.000000  \n",
       "mean      0.634841     0.100226   121.451581        3.955492       0.527123  \n",
       "std       0.481504     0.104200    29.016411        0.311988       0.246605  \n",
       "min       0.000000     0.022800    46.591000        1.000000       0.023000  \n",
       "25%       0.000000     0.037200    98.275750        4.000000       0.333000  \n",
       "50%       1.000000     0.054200   120.050500        4.000000       0.526000  \n",
       "75%       1.000000     0.115000   139.992500        4.000000       0.728000  \n",
       "max       1.000000     0.941000   242.318000        5.000000       0.982000  "
      ]
     },
     "execution_count": 19,
     "metadata": {},
     "output_type": "execute_result"
    }
   ],
   "source": [
    "train.describe()"
   ]
  },
  {
   "cell_type": "markdown",
   "id": "bea304f1",
   "metadata": {},
   "source": [
    "# Explore"
   ]
  },
  {
   "cell_type": "markdown",
   "id": "4609dc03",
   "metadata": {},
   "source": [
    "* create a sub-categories for songs that are rate as 60 or above ther are about 2733 songs in this section.\n",
    "* This is about 32.7 % of the total data"
   ]
  },
  {
   "cell_type": "code",
   "execution_count": 20,
   "id": "2b0fa73f",
   "metadata": {},
   "outputs": [],
   "source": [
    "songs_60and_above = train[train.song_popularity>=60]"
   ]
  },
  {
   "cell_type": "code",
   "execution_count": 21,
   "id": "cdac2381",
   "metadata": {
    "scrolled": true
   },
   "outputs": [
    {
     "data": {
      "text/plain": [
       "0.3269921033740129"
      ]
     },
     "execution_count": 21,
     "metadata": {},
     "output_type": "execute_result"
    }
   ],
   "source": [
    "songs_60and_above.shape[0]/train.shape[0]"
   ]
  },
  {
   "cell_type": "markdown",
   "id": "14645d37",
   "metadata": {},
   "source": [
    "# What does the distribution of Song Popularity Score look like?"
   ]
  },
  {
   "cell_type": "code",
   "execution_count": 137,
   "id": "9aceddfb",
   "metadata": {
    "scrolled": false
   },
   "outputs": [
    {
     "data": {
      "image/png": "[encoded data removed]",
      "text/plain": [
       "<Figure size 1080x504 with 1 Axes>"
      ]
     },
     "metadata": {
      "needs_background": "light"
     },
     "output_type": "display_data"
    }
   ],
   "source": [
    "plt.figure(figsize = (15,7))\n",
    "graph = sns.distplot( a=train[\"song_popularity\"], hist=True, kde=True, rug=False,\n",
    "             hist_kws={\"color\": \"gray\", \"alpha\": 0.65, \"linewidth\": 2,\"fill\":True,\"edgecolor\":'dimgrey'},\n",
    "             kde_kws={\"color\": \"skyblue\", \"alpha\": 0.8, \"linewidth\": 3, \"shade\": True})\n",
    "graph.axvline(train.song_popularity.mean(), color = 'red', linewidth = 1.5, linestyle=\"--\",label=\"Mean Song Popularity Score\" )\n",
    "graph.axvline(train.song_popularity.median(), color = 'blue', linewidth = 1.5, linestyle=\"--\",label=\"Median Song Popularity Score\" )\n",
    "plt.title( 'Distribution of Song Popularity Score',c=\"Black\",fontsize = 25)\n",
    "graph.set_xlabel('Song Popularity Score', fontsize=20)\n",
    "graph.set_ylabel('Density', fontsize=20)\n",
    "graph.set_yticklabels(graph.get_yticks(), size = 15)\n",
    "graph.legend(loc=0)\n",
    "graph.set(facecolor='aliceblue')\n",
    "plt.show();"
   ]
  },
  {
   "cell_type": "code",
   "execution_count": 78,
   "id": "71e20a84",
   "metadata": {},
   "outputs": [
    {
     "data": {
      "text/plain": [
       "48.64692510169897"
      ]
     },
     "execution_count": 78,
     "metadata": {},
     "output_type": "execute_result"
    }
   ],
   "source": [
    "train.song_popularity.mean()"
   ]
  },
  {
   "cell_type": "markdown",
   "id": "2b099368",
   "metadata": {},
   "source": [
    "# Is there a correlation between loudness and Song popularity score?\n"
   ]
  },
  {
   "cell_type": "code",
   "execution_count": null,
   "id": "fed8816b",
   "metadata": {},
   "outputs": [],
   "source": []
  },
  {
   "cell_type": "code",
   "execution_count": null,
   "id": "7b890633",
   "metadata": {},
   "outputs": [],
   "source": []
  },
  {
   "cell_type": "code",
   "execution_count": null,
   "id": "f7aff101",
   "metadata": {},
   "outputs": [],
   "source": []
  },
  {
   "cell_type": "markdown",
   "id": "18dd5a5c",
   "metadata": {},
   "source": [
    "## all songs"
   ]
  },
  {
   "cell_type": "code",
   "execution_count": null,
   "id": "4d17264d",
   "metadata": {
    "scrolled": true
   },
   "outputs": [],
   "source": [
    "plt.figure(figsize=(8, 8), dpi=100)\n",
    "sns.scatterplot(data=train, x=\"audio_valence\", y=\"energy\", size=\"song_popularity\",legend=False, sizes=(.01, 100), alpha=.2)\n",
    "plt.title(\"Train data Valence vs Energy\")\n",
    "plt.show()"
   ]
  },
  {
   "cell_type": "code",
   "execution_count": null,
   "id": "751accb5",
   "metadata": {},
   "outputs": [],
   "source": [
    "#for col in columns:\n",
    "#    for col2 in columns:\n",
    "#        plt.figure(figsize=(6, 6), dpi=60)\n",
    "#        sns.scatterplot(data=train, x=col,y=col2, hue ='song_popularity',palette='Blues')"
   ]
  },
  {
   "cell_type": "code",
   "execution_count": null,
   "id": "658c7498",
   "metadata": {},
   "outputs": [],
   "source": [
    "# pearsonr r for continuous variables\n",
    "features = []\n",
    "for i in columns:\n",
    "    α =0.05\n",
    "    corr, p = stats.pearsonr(train[i], train.song_popularity)\n",
    "    print('_____________________________________________________')\n",
    "    print('HYPOTHESIS')\n",
    "    print(f'H0: There is no significant difference between pop in different {i}')\n",
    "    print(f'Ha:(There is a significant difference between pop in different {i}')\n",
    "    print(f'{i} correlation {corr}, p-val{p}')\n",
    "    if p < α:\n",
    "        print('We reject the null hypothesis.')\n",
    "        print(f'There is a correlation between pop and {i}')\n",
    "        features.append(i)\n",
    "    else:\n",
    "        print('We fail to reject the null hypothesis.')\n",
    "        print(f'There is no correlation between pop and {i}')"
   ]
  },
  {
   "cell_type": "code",
   "execution_count": null,
   "id": "da97df12",
   "metadata": {},
   "outputs": [],
   "source": [
    "features"
   ]
  },
  {
   "cell_type": "code",
   "execution_count": null,
   "id": "49036e73",
   "metadata": {
    "scrolled": false
   },
   "outputs": [],
   "source": [
    "sns.kdeplot(y=train.song_popularity,hue='audio_valence',data=train,legend=False);"
   ]
  },
  {
   "cell_type": "code",
   "execution_count": null,
   "id": "a34aecab",
   "metadata": {
    "scrolled": true
   },
   "outputs": [],
   "source": [
    "sns.lineplot(train.song_popularity,train.audio_valence);"
   ]
  },
  {
   "cell_type": "code",
   "execution_count": null,
   "id": "525e66d2",
   "metadata": {
    "scrolled": false
   },
   "outputs": [],
   "source": [
    "plt.figure(figsize=(8, 8))\n",
    "for col in features:\n",
    "    sns.lineplot(train.song_popularity,train[col])\n",
    "    plt.show();"
   ]
  },
  {
   "cell_type": "code",
   "execution_count": null,
   "id": "3eeb8797",
   "metadata": {
    "scrolled": false
   },
   "outputs": [],
   "source": [
    "for col in features:\n",
    "    sns.regplot(x=col, y='song_popularity', data=train,color='olive',scatter_kws={'s': 100, 'alpha': 0.5, 'color': 'plum'})\n",
    "    plt.show();\n",
    "                "
   ]
  },
  {
   "cell_type": "markdown",
   "id": "04e4b4c0",
   "metadata": {},
   "source": [
    "## Top  in popularity"
   ]
  },
  {
   "cell_type": "code",
   "execution_count": null,
   "id": "f6e179d8",
   "metadata": {},
   "outputs": [],
   "source": [
    "train.sort_values(by='song_popularity', ascending=False)"
   ]
  },
  {
   "cell_type": "code",
   "execution_count": null,
   "id": "dfcd2f1f",
   "metadata": {
    "scrolled": false
   },
   "outputs": [],
   "source": [
    "pop_top= train[train.song_popularity>=75]"
   ]
  },
  {
   "cell_type": "code",
   "execution_count": null,
   "id": "ef78003e",
   "metadata": {
    "scrolled": false
   },
   "outputs": [],
   "source": [
    "plt.figure(figsize=(8, 8), dpi=100)\n",
    "sns.scatterplot(data=pop_top, x=\"audio_valence\", y=\"energy\", size=\"song_popularity\",legend=False, sizes=(1, 25), alpha=.6)\n",
    "plt.title(\"Pop is 90& above data Valence vs Energy\")\n",
    "plt.show()"
   ]
  },
  {
   "cell_type": "code",
   "execution_count": null,
   "id": "8025ab67",
   "metadata": {
    "scrolled": false
   },
   "outputs": [],
   "source": [
    "for col in features:\n",
    "    sns.regplot(x=col, y='song_popularity', data=pop_top,color='olive',scatter_kws={'s': 100, 'alpha': 0.5, 'color': 'plum'})\n",
    "    plt.show();"
   ]
  },
  {
   "cell_type": "markdown",
   "id": "f13cefe9",
   "metadata": {},
   "source": [
    "# Low popularity"
   ]
  },
  {
   "cell_type": "code",
   "execution_count": null,
   "id": "7ee31333",
   "metadata": {},
   "outputs": [],
   "source": [
    "pop_low= train[train.song_popularity<=25]"
   ]
  },
  {
   "cell_type": "code",
   "execution_count": null,
   "id": "43a78549",
   "metadata": {
    "scrolled": true
   },
   "outputs": [],
   "source": [
    "plt.figure(figsize=(8, 8), dpi=100)\n",
    "sns.scatterplot(data=pop_low, x=\"audio_valence\", y=\"energy\", size=\"song_popularity\",legend=False, sizes=(1, 25), alpha=.6)\n",
    "plt.title(\"Pop is 90& above data Valence vs Energy\")\n",
    "plt.show()"
   ]
  },
  {
   "cell_type": "code",
   "execution_count": null,
   "id": "4cc25dbf",
   "metadata": {
    "scrolled": true
   },
   "outputs": [],
   "source": [
    "for col in features:\n",
    "    sns.regplot(x=col, y='song_popularity', data=pop_low,color='olive',scatter_kws={'s': 100, 'alpha': 0.5, 'color': 'plum'})\n",
    "    plt.show();"
   ]
  },
  {
   "cell_type": "code",
   "execution_count": null,
   "id": "9e81a140",
   "metadata": {},
   "outputs": [],
   "source": [
    "plt.figure(figsize=(8, 12))\n",
    "heatmap = sns.heatmap(train.corr(method='spearman')[['song_popularity']].sort_values(by='song_popularity', ascending=False), vmin=-1, vmax=1, annot=True, cmap='Purples')\n",
    "heatmap.set_title('Features Correlating with song_popularity', fontdict={'fontsize':18}, pad=16);"
   ]
  },
  {
   "cell_type": "markdown",
   "id": "6a7136d2",
   "metadata": {},
   "source": [
    "# Modeling"
   ]
  },
  {
   "cell_type": "markdown",
   "id": "e30712e1",
   "metadata": {},
   "source": [
    "### Prep data for modeling"
   ]
  },
  {
   "cell_type": "code",
   "execution_count": null,
   "id": "d6b95ca3",
   "metadata": {},
   "outputs": [],
   "source": [
    "def data_modeling(df,target):\n",
    "    train,test,validate = split_data(df)\n",
    "    y_train = train[target]\n",
    "    X_train = train.drop(columns ={target,'song_name'})\n",
    "    y_validate = validate[target]\n",
    "    X_validate = validate.drop(columns ={target,'song_name'})\n",
    "    y_test = test[target]\n",
    "    X_test = test.drop(columns ={target,'song_name'})\n",
    "    return y_train, X_train, y_validate,X_validate, y_test, X_test\n",
    "    \n",
    "    "
   ]
  },
  {
   "cell_type": "code",
   "execution_count": null,
   "id": "c05e351c",
   "metadata": {
    "scrolled": true
   },
   "outputs": [],
   "source": [
    "y_train, X_train, y_validate,X_validate, y_test, x_test = data_modeling(df, 'song_popularity')"
   ]
  },
  {
   "cell_type": "code",
   "execution_count": null,
   "id": "d37ea0e2",
   "metadata": {
    "scrolled": true
   },
   "outputs": [],
   "source": [
    "plt.hist(y_train);"
   ]
  },
  {
   "cell_type": "code",
   "execution_count": null,
   "id": "b888ef27",
   "metadata": {},
   "outputs": [],
   "source": [
    "pred_train =pd.DataFrame()"
   ]
  },
  {
   "cell_type": "markdown",
   "id": "30508edf",
   "metadata": {},
   "source": [
    "### First model Linear Regression"
   ]
  },
  {
   "cell_type": "code",
   "execution_count": null,
   "id": "dbdb3915",
   "metadata": {},
   "outputs": [],
   "source": [
    "lm = LinearRegression(normalize=True)\n",
    "ols_model = lm.fit(X_train, y_train)"
   ]
  },
  {
   "cell_type": "code",
   "execution_count": null,
   "id": "82317830",
   "metadata": {
    "scrolled": true
   },
   "outputs": [],
   "source": [
    "pred_train['ols_model']=lm.predict(X_train)"
   ]
  },
  {
   "cell_type": "code",
   "execution_count": null,
   "id": "e0ade047",
   "metadata": {},
   "outputs": [],
   "source": [
    "RMSE_ols_model = sqrt(mean_squared_error(y_train, pred_train.ols_model))\n"
   ]
  },
  {
   "cell_type": "code",
   "execution_count": null,
   "id": "ce6342de",
   "metadata": {},
   "outputs": [],
   "source": [
    "RMSE_ols_model"
   ]
  },
  {
   "cell_type": "markdown",
   "id": "cf06e45a",
   "metadata": {},
   "source": [
    "* Root Mean Square Error for OLS model is slightly lower than Baseline mode and Baseline mean."
   ]
  },
  {
   "cell_type": "code",
   "execution_count": null,
   "id": "6b106709",
   "metadata": {},
   "outputs": [],
   "source": []
  },
  {
   "cell_type": "markdown",
   "id": "95f5e5c4",
   "metadata": {},
   "source": [
    "### Baseline"
   ]
  },
  {
   "cell_type": "code",
   "execution_count": null,
   "id": "da3b202f",
   "metadata": {
    "scrolled": true
   },
   "outputs": [],
   "source": [
    "y_train.mean()"
   ]
  },
  {
   "cell_type": "code",
   "execution_count": null,
   "id": "14a69e7d",
   "metadata": {},
   "outputs": [],
   "source": [
    "y_train.mode()"
   ]
  },
  {
   "cell_type": "code",
   "execution_count": null,
   "id": "b40e476c",
   "metadata": {},
   "outputs": [],
   "source": [
    "y_train.median()"
   ]
  },
  {
   "cell_type": "markdown",
   "id": "f79d94b6",
   "metadata": {},
   "source": [
    "* Mode was selected as the statistical measure for baseline. Mode is the number that appears the most and in this dataset by choosing 53 as song popularity we would guess the most correct than by choosing any other number."
   ]
  },
  {
   "cell_type": "code",
   "execution_count": null,
   "id": "1d024e0b",
   "metadata": {},
   "outputs": [],
   "source": [
    "baseline_mode =y_train.mode()\n",
    "baseline_mode[0]"
   ]
  },
  {
   "cell_type": "code",
   "execution_count": null,
   "id": "00c59503",
   "metadata": {},
   "outputs": [],
   "source": [
    "baseline_mean = y_train.mean()\n",
    "baseline_mean"
   ]
  },
  {
   "cell_type": "code",
   "execution_count": null,
   "id": "0a6eae7b",
   "metadata": {
    "scrolled": false
   },
   "outputs": [],
   "source": [
    "pred_train"
   ]
  },
  {
   "cell_type": "code",
   "execution_count": null,
   "id": "ab0a6219",
   "metadata": {},
   "outputs": [],
   "source": [
    "pred_train['baseline_mode']=baseline_mode[0]"
   ]
  },
  {
   "cell_type": "code",
   "execution_count": null,
   "id": "cae1a58c",
   "metadata": {},
   "outputs": [],
   "source": [
    "pred_train['baseline_mean'] = baseline_mean"
   ]
  },
  {
   "cell_type": "code",
   "execution_count": null,
   "id": "a824ebec",
   "metadata": {
    "scrolled": false
   },
   "outputs": [],
   "source": [
    "RMSE_baseline_mode_train = sqrt(mean_squared_error(y_train, pred_train.baseline_mode))\n",
    "RMSE_baseline_mean_train = sqrt(mean_squared_error(y_train, pred_train.baseline_mean))"
   ]
  },
  {
   "cell_type": "code",
   "execution_count": null,
   "id": "aeddd422",
   "metadata": {
    "scrolled": false
   },
   "outputs": [],
   "source": [
    "RMSE_baseline_mode_train, RMSE_baseline_mean_train"
   ]
  },
  {
   "cell_type": "code",
   "execution_count": null,
   "id": "23bb9ccf",
   "metadata": {},
   "outputs": [],
   "source": [
    "features.remove('song_popularity')"
   ]
  },
  {
   "cell_type": "markdown",
   "id": "7fdd0a95",
   "metadata": {},
   "source": [
    "## Using Features"
   ]
  },
  {
   "cell_type": "code",
   "execution_count": null,
   "id": "b5b484cc",
   "metadata": {},
   "outputs": [],
   "source": [
    "features.remove('song_popularity')"
   ]
  },
  {
   "cell_type": "code",
   "execution_count": null,
   "id": "0926a066",
   "metadata": {},
   "outputs": [],
   "source": [
    "features"
   ]
  },
  {
   "cell_type": "code",
   "execution_count": null,
   "id": "a77715fa",
   "metadata": {},
   "outputs": [],
   "source": [
    "def data_modeling_features(df,target, features):\n",
    "    \n",
    "    train,test,validate = split_data(df)\n",
    "    y_train = train[target]\n",
    "    X_train = train[features]\n",
    "    y_validate = validate[target]\n",
    "    X_validate = validate[features]\n",
    "    y_test = test[target]\n",
    "    X_test = test[features]\n",
    "    return y_train, X_train, y_validate,X_validate, y_test, X_test"
   ]
  },
  {
   "cell_type": "code",
   "execution_count": null,
   "id": "f63c8103",
   "metadata": {},
   "outputs": [],
   "source": [
    "y_train, X_train, y_validate,X_validate, y_test, X_test=data_modeling_features(df,'song_popularity',features)"
   ]
  },
  {
   "cell_type": "code",
   "execution_count": null,
   "id": "13af250e",
   "metadata": {},
   "outputs": [],
   "source": [
    "ols_model = lm.fit(X_train, y_train)"
   ]
  },
  {
   "cell_type": "code",
   "execution_count": null,
   "id": "67453e82",
   "metadata": {},
   "outputs": [],
   "source": [
    "pred_train['ols_model_features']=lm.predict(X_train)"
   ]
  },
  {
   "cell_type": "code",
   "execution_count": null,
   "id": "f41c1ea0",
   "metadata": {},
   "outputs": [],
   "source": [
    "RMSE_ols_model_features = sqrt(mean_squared_error(y_train, pred_train.ols_model_features))"
   ]
  },
  {
   "cell_type": "code",
   "execution_count": null,
   "id": "c5783f55",
   "metadata": {},
   "outputs": [],
   "source": [
    "RMSE_ols_model_features"
   ]
  },
  {
   "cell_type": "code",
   "execution_count": null,
   "id": "0e2f1602",
   "metadata": {},
   "outputs": [],
   "source": [
    "# create the model \n",
    "lars = LassoLars(alpha=1.0)\n",
    "\n",
    "lars.fit(X_train, y_train)\n",
    "\n",
    "# predict train\n",
    "pred_train['pred_lars_features'] = lars.predict(X_train)\n",
    "\n"
   ]
  },
  {
   "cell_type": "code",
   "execution_count": null,
   "id": "61f318dc",
   "metadata": {},
   "outputs": [],
   "source": [
    "RMSE_lars_model_features = sqrt(mean_squared_error(y_train, pred_train.pred_lars_features))"
   ]
  },
  {
   "cell_type": "code",
   "execution_count": null,
   "id": "068e952c",
   "metadata": {},
   "outputs": [],
   "source": [
    "RMSE_lars_model_features"
   ]
  },
  {
   "cell_type": "markdown",
   "id": "a94bff37",
   "metadata": {},
   "source": [
    "# XGBoost"
   ]
  },
  {
   "cell_type": "code",
   "execution_count": null,
   "id": "2d22b46b",
   "metadata": {},
   "outputs": [],
   "source": [
    "\n",
    "import xgboost as xg\n",
    "  \n",
    "# Instantiation\n",
    "xgb_r = xg.XGBRegressor(objective ='reg:linear',\n",
    "                  n_estimators = 10, seed = 123)\n",
    "  \n",
    "# Fitting the model\n",
    "xgb_r.fit(X_train, y_train)\n",
    "  \n",
    "# Predict the model\n",
    "pred_train['pred_xgb_features'] = xgb_r.predict(X_train)\n",
    "  \n",
    "# RMSE Computation\n",
    "rmse_xgb = sqrt(mean_squared_error(y_train, pred_train.pred_xgb_features))\n",
    "print(\"RMSE : % f\" %(rmse_xgb))"
   ]
  },
  {
   "cell_type": "code",
   "execution_count": null,
   "id": "f1d71111",
   "metadata": {},
   "outputs": [],
   "source": [
    "# plot to visualize actual vs predicted. \n",
    "plt.figure(figsize=(16,8))\n",
    "plt.hist(train.song_popularity, color='blue', alpha=.5, label=\"Actual \")\n",
    "plt.hist(pred_train.ols_model, color='red', alpha=.5, label=\"Model: LinearRegression\")\n",
    "plt.hist(pred_train.ols_model_features, color='yellow', alpha=.5, label=\"Model: LinearRegression Features\")\n",
    "plt.hist(pred_train.pred_xgb_features, color='green', alpha=.5, label=\"Model XGBosst\")\n",
    "plt.xlabel(\"\")\n",
    "plt.ylabel(\"\")\n",
    "plt.title(\"\")\n",
    "plt.legend()\n",
    "plt.show()"
   ]
  },
  {
   "cell_type": "markdown",
   "id": "da8ffff9",
   "metadata": {},
   "source": [
    "* XGBoost reduced RMSE by 2.69 units of song popularity. 100 being the top songs and 1 the lowest.\n"
   ]
  },
  {
   "cell_type": "code",
   "execution_count": null,
   "id": "b4e4c1b1",
   "metadata": {},
   "outputs": [],
   "source": [
    "18.125547-20.816260532584163\n"
   ]
  },
  {
   "cell_type": "code",
   "execution_count": null,
   "id": "d8dbbcc2",
   "metadata": {},
   "outputs": [],
   "source": []
  }
 ],
 "metadata": {
  "kernelspec": {
   "display_name": "Python 3 (ipykernel)",
   "language": "python",
   "name": "python3"
  },
  "language_info": {
   "codemirror_mode": {
    "name": "ipython",
    "version": 3
   },
   "file_extension": ".py",
   "mimetype": "text/x-python",
   "name": "python",
   "nbconvert_exporter": "python",
   "pygments_lexer": "ipython3",
   "version": "3.9.12"
  }
 },
 "nbformat": 4,
 "nbformat_minor": 5
}
